{
 "cells": [
  {
   "cell_type": "markdown",
   "metadata": {},
   "source": [
    "### Importing Required Libraries"
   ]
  },
  {
   "cell_type": "code",
   "execution_count": 1,
   "metadata": {},
   "outputs": [],
   "source": [
    "import pandas as pd\n",
    "from sklearn.preprocessing import StandardScaler"
   ]
  },
  {
   "cell_type": "code",
   "execution_count": 2,
   "metadata": {},
   "outputs": [],
   "source": [
    "data = pd.read_excel('E-Commerece_RFM.xlsx',index_col=0)"
   ]
  },
  {
   "cell_type": "markdown",
   "metadata": {},
   "source": [
    "## Standardization using Standard Scaler"
   ]
  },
  {
   "cell_type": "code",
   "execution_count": 3,
   "metadata": {},
   "outputs": [
    {
     "data": {
      "text/html": [
       "<div>\n",
       "<style scoped>\n",
       "    .dataframe tbody tr th:only-of-type {\n",
       "        vertical-align: middle;\n",
       "    }\n",
       "\n",
       "    .dataframe tbody tr th {\n",
       "        vertical-align: top;\n",
       "    }\n",
       "\n",
       "    .dataframe thead th {\n",
       "        text-align: right;\n",
       "    }\n",
       "</style>\n",
       "<table border=\"1\" class=\"dataframe\">\n",
       "  <thead>\n",
       "    <tr style=\"text-align: right;\">\n",
       "      <th></th>\n",
       "      <th>Recency</th>\n",
       "      <th>Frequency</th>\n",
       "      <th>TotalQuantity</th>\n",
       "    </tr>\n",
       "    <tr>\n",
       "      <th>CustomerID</th>\n",
       "      <th></th>\n",
       "      <th></th>\n",
       "      <th></th>\n",
       "    </tr>\n",
       "  </thead>\n",
       "  <tbody>\n",
       "    <tr>\n",
       "      <th>12346</th>\n",
       "      <td>2.316568</td>\n",
       "      <td>-0.329362</td>\n",
       "      <td>-0.231001</td>\n",
       "    </tr>\n",
       "    <tr>\n",
       "      <th>12347</th>\n",
       "      <td>-0.889050</td>\n",
       "      <td>0.206102</td>\n",
       "      <td>0.293432</td>\n",
       "    </tr>\n",
       "    <tr>\n",
       "      <th>12348</th>\n",
       "      <td>-0.164560</td>\n",
       "      <td>-0.115176</td>\n",
       "      <td>-0.012316</td>\n",
       "    </tr>\n",
       "    <tr>\n",
       "      <th>12349</th>\n",
       "      <td>-0.730258</td>\n",
       "      <td>-0.436455</td>\n",
       "      <td>-0.017146</td>\n",
       "    </tr>\n",
       "    <tr>\n",
       "      <th>12350</th>\n",
       "      <td>2.167700</td>\n",
       "      <td>-0.436455</td>\n",
       "      <td>-0.190312</td>\n",
       "    </tr>\n",
       "    <tr>\n",
       "      <th>12352</th>\n",
       "      <td>-0.551616</td>\n",
       "      <td>0.634474</td>\n",
       "      <td>-0.042958</td>\n",
       "    </tr>\n",
       "    <tr>\n",
       "      <th>12353</th>\n",
       "      <td>1.115702</td>\n",
       "      <td>-0.436455</td>\n",
       "      <td>-0.220172</td>\n",
       "    </tr>\n",
       "    <tr>\n",
       "      <th>12354</th>\n",
       "      <td>1.393588</td>\n",
       "      <td>-0.436455</td>\n",
       "      <td>-0.099662</td>\n",
       "    </tr>\n",
       "    <tr>\n",
       "      <th>12355</th>\n",
       "      <td>1.214947</td>\n",
       "      <td>-0.436455</td>\n",
       "      <td>-0.175102</td>\n",
       "    </tr>\n",
       "    <tr>\n",
       "      <th>12356</th>\n",
       "      <td>-0.690559</td>\n",
       "      <td>-0.222269</td>\n",
       "      <td>0.111089</td>\n",
       "    </tr>\n",
       "  </tbody>\n",
       "</table>\n",
       "</div>"
      ],
      "text/plain": [
       "             Recency  Frequency  TotalQuantity\n",
       "CustomerID                                    \n",
       "12346       2.316568  -0.329362      -0.231001\n",
       "12347      -0.889050   0.206102       0.293432\n",
       "12348      -0.164560  -0.115176      -0.012316\n",
       "12349      -0.730258  -0.436455      -0.017146\n",
       "12350       2.167700  -0.436455      -0.190312\n",
       "12352      -0.551616   0.634474      -0.042958\n",
       "12353       1.115702  -0.436455      -0.220172\n",
       "12354       1.393588  -0.436455      -0.099662\n",
       "12355       1.214947  -0.436455      -0.175102\n",
       "12356      -0.690559  -0.222269       0.111089"
      ]
     },
     "execution_count": 3,
     "metadata": {},
     "output_type": "execute_result"
    }
   ],
   "source": [
    "sc = StandardScaler()\n",
    "new = sc.fit_transform(data)\n",
    "sc_df = pd.DataFrame(data=new,columns=['Recency','Frequency','TotalQuantity'])\n",
    "sc_df.index = data.index\n",
    "sc_df.head(10)"
   ]
  },
  {
   "cell_type": "code",
   "execution_count": 4,
   "metadata": {},
   "outputs": [],
   "source": [
    "sc_df.to_excel('Standardized_RFM_data.xlsx')"
   ]
  }
 ],
 "metadata": {
  "kernelspec": {
   "display_name": "Python 3",
   "language": "python",
   "name": "python3"
  },
  "language_info": {
   "codemirror_mode": {
    "name": "ipython",
    "version": 3
   },
   "file_extension": ".py",
   "mimetype": "text/x-python",
   "name": "python",
   "nbconvert_exporter": "python",
   "pygments_lexer": "ipython3",
   "version": "3.8.5"
  }
 },
 "nbformat": 4,
 "nbformat_minor": 4
}
